{
  "nbformat": 4,
  "nbformat_minor": 0,
  "metadata": {
    "colab": {
      "provenance": []
    },
    "kernelspec": {
      "name": "python3",
      "display_name": "Python 3"
    },
    "language_info": {
      "name": "python"
    }
  },
  "cells": [
    {
      "cell_type": "code",
      "execution_count": null,
      "metadata": {
        "colab": {
          "base_uri": "https://localhost:8080/"
        },
        "id": "F8WHwl80vweb",
        "outputId": "6b5bdfea-25ed-4aaa-90b2-961dc6e243b6"
      },
      "outputs": [
        {
          "output_type": "stream",
          "name": "stdout",
          "text": [
            "You: how are you doing\n",
            "Chatbot: I'm  just a robot.Thanks for asking!\n"
          ]
        }
      ],
      "source": [
        "def chatbot(inputquery):\n",
        "    inputquery = inputquery.lower().strip()\n",
        "\n",
        "    if inputquery == \"hello\":\n",
        "        return \"Hi! How can I help you?\"\n",
        "\n",
        "    elif \"how are you doing\" in inputquery:\n",
        "        return \"I'm  just a robot.Thanks for asking!\"\n",
        "\n",
        "    elif \"your name\" in inputquery:\n",
        "        return \"I'm just a chatbot,so no name here\"\n",
        "\n",
        "    elif \"bye\" in inputquery:\n",
        "        return \"Goodbye! Have a great day!\"\n",
        "\n",
        "    else:\n",
        "        return \"I'm sorry, I didn't understand that. Can you please say it again ?\"\n",
        "while True:\n",
        "    inputquery = input(\"You: \")\n",
        "    if inputquery.lower() == 'exit':\n",
        "        print(\"Goodbye!\")\n",
        "        break\n",
        "    response = chatbot(inputquery)\n",
        "    print(\"Chatbot:\", response)\n"
      ]
    }
  ]
}